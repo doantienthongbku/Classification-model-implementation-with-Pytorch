{
  "cells": [
    {
      "cell_type": "markdown",
      "metadata": {
        "id": "W8Zsmz5y_-LU"
      },
      "source": [
        "# Install Library and GPU checking"
      ]
    },
    {
      "cell_type": "code",
      "execution_count": null,
      "metadata": {
        "id": "u3exjL-fU_HF"
      },
      "outputs": [],
      "source": [
        "!pip install --upgrade --force-reinstall --no-deps albumentations\n",
        "!pip install opendatasets\n",
        "!pip install albumentations==0.4.6\n",
        "!pip install torch-summary"
      ]
    },
    {
      "cell_type": "code",
      "execution_count": null,
      "metadata": {
        "colab": {
          "base_uri": "https://localhost:8080/"
        },
        "id": "2vKXbnbzUbHD",
        "outputId": "0e5d7193-9839-401d-862d-1ac6820d6446"
      },
      "outputs": [
        {
          "name": "stdout",
          "output_type": "stream",
          "text": [
            "Sat Feb 12 09:42:29 2022       \n",
            "+-----------------------------------------------------------------------------+\n",
            "| NVIDIA-SMI 460.32.03    Driver Version: 460.32.03    CUDA Version: 11.2     |\n",
            "|-------------------------------+----------------------+----------------------+\n",
            "| GPU  Name        Persistence-M| Bus-Id        Disp.A | Volatile Uncorr. ECC |\n",
            "| Fan  Temp  Perf  Pwr:Usage/Cap|         Memory-Usage | GPU-Util  Compute M. |\n",
            "|                               |                      |               MIG M. |\n",
            "|===============================+======================+======================|\n",
            "|   0  Tesla P100-PCIE...  Off  | 00000000:00:04.0 Off |                    0 |\n",
            "| N/A   34C    P0    27W / 250W |      0MiB / 16280MiB |      0%      Default |\n",
            "|                               |                      |                  N/A |\n",
            "+-------------------------------+----------------------+----------------------+\n",
            "                                                                               \n",
            "+-----------------------------------------------------------------------------+\n",
            "| Processes:                                                                  |\n",
            "|  GPU   GI   CI        PID   Type   Process name                  GPU Memory |\n",
            "|        ID   ID                                                   Usage      |\n",
            "|=============================================================================|\n",
            "|  No running processes found                                                 |\n",
            "+-----------------------------------------------------------------------------+\n"
          ]
        }
      ],
      "source": [
        "!nvidia-smi"
      ]
    },
    {
      "cell_type": "markdown",
      "metadata": {
        "id": "GAft61LnAg6X"
      },
      "source": [
        "# Import Library"
      ]
    },
    {
      "cell_type": "code",
      "execution_count": null,
      "metadata": {
        "id": "3q_7KTIpAjm_"
      },
      "outputs": [],
      "source": [
        "import torch\n",
        "import torch.nn as nn\n",
        "import numpy as np\n",
        "import pandas as pd\n",
        "import matplotlib.pyplot as plt\n",
        "import torchvision\n",
        "from torchvision import datasets,transforms\n",
        "from tqdm import tqdm\n",
        "import cv2\n",
        "from torch.utils.data import Dataset,DataLoader\n",
        "import torch.optim as optim\n",
        "from PIL import Image\n",
        "import torchvision.transforms as transforms\n",
        "import os\n",
        "import torch.nn.functional as F"
      ]
    },
    {
      "cell_type": "markdown",
      "metadata": {
        "id": "mHQ7q3lBHGdT"
      },
      "source": [
        "# Configuration"
      ]
    },
    {
      "cell_type": "code",
      "execution_count": null,
      "metadata": {
        "colab": {
          "base_uri": "https://localhost:8080/"
        },
        "id": "GaGaQZIVHFHD",
        "outputId": "a28a2c6c-26ee-4054-cbd0-6d9bd83776d7"
      },
      "outputs": [
        {
          "name": "stdout",
          "output_type": "stream",
          "text": [
            "Using device = cuda\n"
          ]
        }
      ],
      "source": [
        "# config\n",
        "LEARNING_RATE = 1e-4\n",
        "SPLIT=0.1           # 90% for training and 10% for validation\n",
        "DEVICE = \"cuda\" if torch.cuda.is_available() else \"cpu\"\n",
        "print(f\"Using device = {DEVICE}\")\n",
        "BATCH_SIZE = 4\n",
        "EPOCHS = 10\n",
        "NUM_WORKERS = 4     # 4 * num_gpus = 4 * 1 \n",
        "IMAGE_HEIGHT = 572  # resize height\n",
        "IMAGE_WIDTH = 572   # resize width\n",
        "PIN_MEMORY = True   # pin memory\n",
        "DATAPATH = \"/content/Dataset\"\n",
        "TRAIN_IMG_DIR = '/content/Dataset/train'\n",
        "TRAIN_MASK_DIR = '/content/Dataset/train_masks'"
      ]
    },
    {
      "cell_type": "markdown",
      "metadata": {
        "id": "m630YyoPAsSa"
      },
      "source": [
        "# Dataset"
      ]
    },
    {
      "cell_type": "markdown",
      "metadata": {
        "id": "z6A6PlBlA0tn"
      },
      "source": [
        "## Download Carvana dataset from kaggle"
      ]
    },
    {
      "cell_type": "code",
      "execution_count": null,
      "metadata": {
        "colab": {
          "base_uri": "https://localhost:8080/"
        },
        "id": "PVRPwDWwUr6E",
        "outputId": "22932271-32fc-47d6-89b7-a4e7b9e4d000"
      },
      "outputs": [
        {
          "name": "stdout",
          "output_type": "stream",
          "text": [
            "Please provide your Kaggle credentials to download this dataset. Learn more: http://bit.ly/kaggle-creds\n",
            "Your Kaggle username: doanthong\n",
            "Your Kaggle Key: ··········\n",
            "Downloading carvana-image-masking-challenge.zip to ./carvana-image-masking-challenge\n"
          ]
        },
        {
          "name": "stderr",
          "output_type": "stream",
          "text": [
            "100%|██████████| 24.4G/24.4G [02:48<00:00, 156MB/s] \n"
          ]
        },
        {
          "name": "stdout",
          "output_type": "stream",
          "text": [
            "\n",
            "Extracting archive ./carvana-image-masking-challenge/carvana-image-masking-challenge.zip to ./carvana-image-masking-challenge\n"
          ]
        }
      ],
      "source": [
        "import opendatasets as od\n",
        "od.download(\"https://www.kaggle.com/c/carvana-image-masking-challenge/data\")"
      ]
    },
    {
      "cell_type": "markdown",
      "metadata": {
        "id": "eSIBj71ZA5uf"
      },
      "source": [
        "## Unzip dataset"
      ]
    },
    {
      "cell_type": "code",
      "execution_count": null,
      "metadata": {
        "id": "fkLCHQS1VVex"
      },
      "outputs": [],
      "source": [
        "import zipfile\n",
        "# 'test.zip'\n",
        "dirs = ['train.zip','train_masks.zip']\n",
        "for x in dirs:\n",
        "    with zipfile.ZipFile(\"/content/carvana-image-masking-challenge/\"+ x,'r') as z:\n",
        "        z.extractall(\"Dataset/\")"
      ]
    },
    {
      "cell_type": "code",
      "execution_count": null,
      "metadata": {
        "colab": {
          "base_uri": "https://localhost:8080/"
        },
        "id": "fSDiBRlyCSPG",
        "outputId": "41c3cc62-9197-4614-b318-5f87ba97c108"
      },
      "outputs": [
        {
          "name": "stdout",
          "output_type": "stream",
          "text": [
            "/content/Dataset\n"
          ]
        }
      ],
      "source": [
        "cd /content/Dataset"
      ]
    },
    {
      "cell_type": "code",
      "execution_count": null,
      "metadata": {
        "colab": {
          "base_uri": "https://localhost:8080/"
        },
        "id": "Q3yJ_T-_C6qc",
        "outputId": "c0266fcd-5e0b-4836-cdbf-65be52731b8c"
      },
      "outputs": [
        {
          "name": "stdout",
          "output_type": "stream",
          "text": [
            "train  train_masks\n"
          ]
        }
      ],
      "source": [
        "!ls"
      ]
    },
    {
      "cell_type": "markdown",
      "metadata": {
        "id": "EpeMm3rwG6Jb"
      },
      "source": [
        "## Dataset Info"
      ]
    },
    {
      "cell_type": "code",
      "execution_count": null,
      "metadata": {
        "id": "GsESJ5JEG8cX"
      },
      "outputs": [],
      "source": [
        "images = os.listdir(TRAIN_IMG_DIR)\n",
        "masks = os.listdir(TRAIN_MASK_DIR)"
      ]
    },
    {
      "cell_type": "code",
      "execution_count": null,
      "metadata": {
        "colab": {
          "base_uri": "https://localhost:8080/",
          "height": 643
        },
        "id": "wS55fgBZICsu",
        "outputId": "d53f7923-365a-47bc-d56e-fceeb6e47d33"
      },
      "outputs": [
        {
          "name": "stdout",
          "output_type": "stream",
          "text": [
            "----------Image----------\n",
            "Number of images: 5088\n",
            "Image shape: (1280, 1918, 3)\n"
          ]
        },
        {
          "data": {
            "image/png": "[encoded data removed]",
            "text/plain": [
              "<Figure size 432x288 with 1 Axes>"
            ]
          },
          "metadata": {
            "needs_background": "light"
          },
          "output_type": "display_data"
        },
        {
          "name": "stdout",
          "output_type": "stream",
          "text": [
            "\n",
            "----------Mask-----------\n",
            "Number of images: 5088\n",
            "Mask shape: (1280, 1918)\n"
          ]
        },
        {
          "data": {
            "image/png": "[encoded data removed]",
            "text/plain": [
              "<Figure size 432x288 with 1 Axes>"
            ]
          },
          "metadata": {
            "needs_background": "light"
          },
          "output_type": "display_data"
        }
      ],
      "source": [
        "print(\"----------Image----------\")\n",
        "img = np.array(Image.open(TRAIN_IMG_DIR+\"/\"+images[100]).convert(\"RGB\"))\n",
        "print(f'Number of images: {len(images)}')\n",
        "print('Image shape:', img.shape)\n",
        "plt.imshow(img)\n",
        "plt.show()\n",
        "\n",
        "print(\"\\n----------Mask-----------\")\n",
        "msk = np.array(Image.open(TRAIN_MASK_DIR+\"/\"+images[100].replace(\".jpg\",\"_mask.gif\")).convert(\"L\")) # conver to gray image\n",
        "print(f'Number of images: {len(masks)}')\n",
        "print(\"Mask shape:\", msk.shape)\n",
        "plt.imshow(msk,cmap=\"gray\")\n",
        "\n",
        "plt.show()"
      ]
    },
    {
      "cell_type": "markdown",
      "metadata": {
        "id": "lbzdPxizDLFt"
      },
      "source": [
        "## Make custom dataset"
      ]
    },
    {
      "cell_type": "code",
      "execution_count": null,
      "metadata": {
        "id": "znv-bC_FC-0G"
      },
      "outputs": [],
      "source": [
        "class CarvanaDataset(Dataset):\n",
        "    def __init__(self, images, image_dir, mask_dir, transforms=None, train=True):\n",
        "        self.images = images\n",
        "        self.image_dir = image_dir\n",
        "        self.mask_dir = mask_dir\n",
        "        self.isTrain = train\n",
        "        self.transforms = transforms\n",
        "\n",
        "    def __len__(self):\n",
        "        return len(self.images)\n",
        "\n",
        "    def __getitem__(self, index):\n",
        "        img_path = os.path.join(self.image_dir, self.images[index])\n",
        "        mask_path = os.path.join(self.mask_dir, self.images[index].replace('.jpg', '_mask.gif'))\n",
        "        image = np.array(Image.open(img_path).convert('RGB'))\n",
        "        mask = np.array(Image.open(mask_path).convert('L'), dtype=np.float32)\n",
        "        mask[mask == 255.0] = 1\n",
        "\n",
        "        if self.transforms is not None:\n",
        "            augmentations = self.transforms(image=image, mask=mask)\n",
        "            image = augmentations['image']\n",
        "            mask = augmentations['mask']\n",
        "\n",
        "        return {\"image\": image,\n",
        "                \"mask\": mask} "
      ]
    },
    {
      "cell_type": "markdown",
      "metadata": {
        "id": "shBlSjxWG1BS"
      },
      "source": [
        "## Transforms"
      ]
    },
    {
      "cell_type": "code",
      "execution_count": null,
      "metadata": {
        "id": "CymGtG2QGkp1"
      },
      "outputs": [],
      "source": [
        "import albumentations as A\n",
        "from albumentations.pytorch import ToTensorV2"
      ]
    },
    {
      "cell_type": "code",
      "execution_count": null,
      "metadata": {
        "id": "Y_hkLP6wNTqI"
      },
      "outputs": [],
      "source": [
        "train_tfs = A.Compose([\n",
        "    A.Resize(IMAGE_HEIGHT, IMAGE_WIDTH),\n",
        "    A.Rotate(limit=35, p=0.5),\n",
        "    A.HorizontalFlip(p=0.5),\n",
        "    A.VerticalFlip(p=0.5),\n",
        "    A.Normalize(\n",
        "        mean=[0.0,0.0,0.0],\n",
        "        std = [1.0,1.0,1.0],\n",
        "        max_pixel_value=255.0\n",
        "    ),\n",
        "    ToTensorV2()\n",
        "])\n",
        "\n",
        "valid_tfs = A.Compose([\n",
        "    A.Resize(IMAGE_HEIGHT,IMAGE_WIDTH),\n",
        "    A.Normalize(\n",
        "        mean = [0.0,0.0,0.0],\n",
        "        std = [1.0,1.0,1.0],\n",
        "        max_pixel_value=255.0,\n",
        "    ),\n",
        "    ToTensorV2()\n",
        "])"
      ]
    },
    {
      "cell_type": "markdown",
      "metadata": {
        "id": "Swx968WSRii4"
      },
      "source": [
        "## Data and DataLoader"
      ]
    },
    {
      "cell_type": "code",
      "execution_count": null,
      "metadata": {
        "id": "_EBzwyXSPX2W"
      },
      "outputs": [],
      "source": [
        "def split_data(images, split_size):\n",
        "    images_len = len(images)\n",
        "    valid_len = int(images_len * split_size)\n",
        "    train_len = images_len - valid_len\n",
        "    train_images,val_images = images[:train_len],images[train_len:]\n",
        "    \n",
        "    print(f\"Split {train_len} images for training and {valid_len} images to validation\")\n",
        "    return train_images, val_images"
      ]
    },
    {
      "cell_type": "code",
      "execution_count": null,
      "metadata": {
        "colab": {
          "base_uri": "https://localhost:8080/"
        },
        "id": "RlsEPDR2QiKD",
        "outputId": "d2e77e46-604c-462e-9ab5-e9f7d88c336a"
      },
      "outputs": [
        {
          "name": "stdout",
          "output_type": "stream",
          "text": [
            "Split 4580 images for training and 508 images to validation\n"
          ]
        }
      ],
      "source": [
        "train_images_path, val_images_path = split_data(images,SPLIT)\n",
        "train_data = CarvanaDataset(train_images_path, TRAIN_IMG_DIR, TRAIN_MASK_DIR, transforms=train_tfs)\n",
        "valid_data = CarvanaDataset(val_images_path, TRAIN_IMG_DIR, TRAIN_MASK_DIR, transforms=valid_tfs)\n",
        "\n",
        "train_loader = DataLoader(train_data,\n",
        "                          batch_size=BATCH_SIZE,\n",
        "                          shuffle=True,\n",
        "                          num_workers=NUM_WORKERS,\n",
        "                          pin_memory=PIN_MEMORY)\n",
        "\n",
        "valid_loader = DataLoader(valid_data,\n",
        "                          batch_size=BATCH_SIZE,\n",
        "                          shuffle=False,\n",
        "                          num_workers=NUM_WORKERS,\n",
        "                          pin_memory=PIN_MEMORY)"
      ]
    },
    {
      "cell_type": "markdown",
      "metadata": {
        "id": "vbHwScIuSAGx"
      },
      "source": [
        "# Model"
      ]
    },
    {
      "cell_type": "code",
      "execution_count": null,
      "metadata": {
        "id": "_kr3Ghj5SA2t"
      },
      "outputs": [],
      "source": [
        "class DoubleConv(nn.Module):\n",
        "    \"\"\"(convolution => BN => ReLU) * 2\"\"\"\n",
        "    \n",
        "    def __init__(self, in_channels, out_channels, mid_channels=None):\n",
        "        super(DoubleConv, self).__init__()\n",
        "        if not mid_channels:\n",
        "            mid_channels = out_channels\n",
        "        \n",
        "        self.double_conv = nn.Sequential(\n",
        "            nn.Conv2d(in_channels, mid_channels, kernel_size=3, padding=1),\n",
        "            nn.BatchNorm2d(num_features=mid_channels),\n",
        "            nn.GELU(),\n",
        "            nn.Conv2d(mid_channels, out_channels, kernel_size=3, padding=1),\n",
        "            nn.BatchNorm2d(num_features=out_channels),\n",
        "            nn.GELU()\n",
        "        )\n",
        "        \n",
        "    def forward(self, x):\n",
        "        return self.double_conv(x)\n",
        "    \n",
        "\n",
        "class Down(nn.Module):\n",
        "    \"\"\"Downscaling with maxpool then double conv\"\"\"\n",
        "    \n",
        "    def __init__(self, in_channels, out_channels):\n",
        "        super().__init__()\n",
        "        self.maxpool_conv = nn.Sequential(\n",
        "            nn.MaxPool2d(2),\n",
        "            DoubleConv(in_channels, out_channels)\n",
        "        )\n",
        "        \n",
        "    def forward(self, x):\n",
        "        return self.maxpool_conv(x)\n",
        "    \n",
        "\n",
        "class Up(nn.Module):\n",
        "    \"\"\"Upscaling then double conv\"\"\"\n",
        "    \n",
        "    def __init__(self, in_channels, out_channels, bilinear=True):\n",
        "        super().__init__()\n",
        "        \n",
        "        # if bilinear, use the normal convolution to reduce the number of channels\n",
        "        if bilinear:\n",
        "            self.up = nn.Upsample(scale_factor=2, mode='bilinear', align_corners=True)\n",
        "            self.conv = DoubleConv(in_channels, out_channels, in_channels // 2)\n",
        "        else:\n",
        "            self.up = nn.ConvTranspose2d(in_channels, in_channels // 2, kernel_size=2, stride=2)\n",
        "            self.conv = DoubleConv(in_channels, out_channels)\n",
        "        \n",
        "    def forward(self, x1, x2):\n",
        "        x1 = self.up(x1)\n",
        "        # input is CHW\n",
        "        diffY = x2.size()[2] - x1.size()[2]\n",
        "        diffX = x2.size()[3] - x1.size()[3]\n",
        "\n",
        "        x1 = F.pad(x1, [diffX // 2, diffX - diffX // 2,\n",
        "                        diffY // 2, diffY - diffY // 2])\n",
        "        \n",
        "        x = torch.cat([x2, x1], dim=1)\n",
        "        return self.conv(x)\n",
        "\n",
        "\n",
        "class OutConv(nn.Module):\n",
        "    def __init__(self, in_channels, out_channels):\n",
        "        super(OutConv, self).__init__()\n",
        "        self.conv = nn.Conv2d(in_channels, out_channels, kernel_size=1)\n",
        "\n",
        "    def forward(self, x):\n",
        "        return self.conv(x)\n",
        "    \n",
        "    \n",
        "class Unet(nn.Module):\n",
        "    \n",
        "    def __init__(self, n_channels=3, n_classes=10, bilinear=True):\n",
        "        super(Unet, self).__init__()\n",
        "        \n",
        "        self.n_channels = n_channels\n",
        "        self.n_classes = n_classes\n",
        "        self.bilinear = bilinear\n",
        "        \n",
        "        self.inc = DoubleConv(n_channels, 64)\n",
        "        \n",
        "        self.down1 = Down(64, 128)\n",
        "        self.down2 = Down(128, 256)\n",
        "        self.down3 = Down(256, 512)\n",
        "        \n",
        "        factor = 2 if bilinear else 1\n",
        "        self.down4 = Down(512, 1024 // factor)\n",
        "        \n",
        "        self.up1 = Up(1024, 512 // factor, bilinear)\n",
        "        self.up2 = Up(512, 256 // factor, bilinear)\n",
        "        self.up3 = Up(256, 128 // factor, bilinear)\n",
        "        self.up4 = Up(128, 64, bilinear)\n",
        "        \n",
        "        self.outc = OutConv(64, n_classes)\n",
        "        \n",
        "    def forward(self, x):\n",
        "        x1 = self.inc(x)\n",
        "        x2 = self.down1(x1)\n",
        "        x3 = self.down2(x2)\n",
        "        x4 = self.down3(x3)\n",
        "        x5 = self.down4(x4)\n",
        "        x = self.up1(x5, x4)\n",
        "        x = self.up2(x, x3)\n",
        "        x = self.up3(x, x2)\n",
        "        x = self.up4(x, x1)\n",
        "        logits = self.outc(x)\n",
        "        \n",
        "        return logits"
      ]
    },
    {
      "cell_type": "markdown",
      "metadata": {
        "id": "xWYOefCnSjWG"
      },
      "source": [
        "# Trainer"
      ]
    },
    {
      "cell_type": "code",
      "execution_count": null,
      "metadata": {
        "id": "o_WR8Lt8SHP0"
      },
      "outputs": [],
      "source": [
        "def fit(model, dataloader, data, optimizer, criterion, device='cpu'):\n",
        "    model = model.to(device)    # convert model to device\n",
        "    print(\"\\nTRAINING MODE ---------------------\")\n",
        "    model.train()               # turn on mode train\n",
        "    train_running_loss = 0.0    # sum of loss\n",
        "    counter = 0\n",
        "\n",
        "    # number of batches\n",
        "    num_batches = int(len(data) / dataloader.batch_size)\n",
        "    for idx, data in tqdm(enumerate(dataloader), total=num_batches):\n",
        "        counter += 1\n",
        "        image, mask = data['image'].to(device), data['mask'].to(device) # get data and mask\n",
        "\n",
        "        # forward\n",
        "        outputs = model(image)  # [batch_size, num_classes, H, W]\n",
        "        outputs = outputs.squeeze(dim=1)    # remove num_classes dimension in outputs\n",
        "        loss = criterion(outputs, mask)     # compute loss\n",
        "        train_running_loss += loss.item()   # total loss\n",
        "        \n",
        "        # backward\n",
        "        optimizer.zero_grad()\n",
        "        loss.backward()\n",
        "\n",
        "        # optimizer\n",
        "        optimizer.step()\n",
        "\n",
        "    train_loss = train_running_loss/counter\n",
        "    return train_loss"
      ]
    },
    {
      "cell_type": "code",
      "execution_count": null,
      "metadata": {
        "id": "mMPlAvz1YB0s"
      },
      "outputs": [],
      "source": [
        "def validation(model, dataloader, data, criterion, device='cpu'):\n",
        "    model = model.to(device)    # convert model to device\n",
        "    print(\"\\nVALIDATION MODE --------------------\")\n",
        "    model.eval()               # turn on mode train\n",
        "    valid_running_loss = 0.0    # sum of loss\n",
        "    counter = 0\n",
        "\n",
        "    # number of batches\n",
        "    num_batches = int(len(data) / dataloader.batch_size)\n",
        "    with torch.no_grad():\n",
        "        for idx, data in tqdm(enumerate(dataloader), total=num_batches):\n",
        "            counter += 1\n",
        "            image, mask = data['image'].to(device), data['mask'].to(device) # get data and mask\n",
        "\n",
        "            # forward\n",
        "            outputs = model(image)  # [batch_size, num_classes, H, W]\n",
        "            outputs = outputs.squeeze(dim=1)    # remove num_classes dimension in outputs\n",
        "            loss = criterion(outputs, mask)     # compute loss\n",
        "            valid_running_loss += loss.item()   # total loss\n",
        "\n",
        "    valid_loss = valid_running_loss/counter\n",
        "    return valid_loss"
      ]
    },
    {
      "cell_type": "markdown",
      "metadata": {
        "id": "ejOPSeztZHFB"
      },
      "source": [
        "# Run Training"
      ]
    },
    {
      "cell_type": "code",
      "execution_count": null,
      "metadata": {
        "colab": {
          "base_uri": "https://localhost:8080/"
        },
        "id": "09cbf0gvZNFg",
        "outputId": "2c609d48-c65e-41d5-82b7-3b3640e1963f"
      },
      "outputs": [
        {
          "name": "stdout",
          "output_type": "stream",
          "text": [
            "==========================================================================================\n",
            "Layer (type:depth-idx)                   Output Shape              Param #\n",
            "==========================================================================================\n",
            "├─DoubleConv: 1-1                        [-1, 64, 572, 572]        --\n",
            "|    └─Sequential: 2-1                   [-1, 64, 572, 572]        --\n",
            "|    |    └─Conv2d: 3-1                  [-1, 64, 572, 572]        1,792\n",
            "|    |    └─BatchNorm2d: 3-2             [-1, 64, 572, 572]        128\n",
            "|    |    └─GELU: 3-3                    [-1, 64, 572, 572]        --\n",
            "|    |    └─Conv2d: 3-4                  [-1, 64, 572, 572]        36,928\n",
            "|    |    └─BatchNorm2d: 3-5             [-1, 64, 572, 572]        128\n",
            "|    |    └─GELU: 3-6                    [-1, 64, 572, 572]        --\n",
            "├─Down: 1-2                              [-1, 128, 286, 286]       --\n",
            "|    └─Sequential: 2-2                   [-1, 128, 286, 286]       --\n",
            "|    |    └─MaxPool2d: 3-7               [-1, 64, 286, 286]        --\n",
            "|    |    └─DoubleConv: 3-8              [-1, 128, 286, 286]       221,952\n",
            "├─Down: 1-3                              [-1, 256, 143, 143]       --\n",
            "|    └─Sequential: 2-3                   [-1, 256, 143, 143]       --\n",
            "|    |    └─MaxPool2d: 3-9               [-1, 128, 143, 143]       --\n",
            "|    |    └─DoubleConv: 3-10             [-1, 256, 143, 143]       886,272\n",
            "├─Down: 1-4                              [-1, 512, 71, 71]         --\n",
            "|    └─Sequential: 2-4                   [-1, 512, 71, 71]         --\n",
            "|    |    └─MaxPool2d: 3-11              [-1, 256, 71, 71]         --\n",
            "|    |    └─DoubleConv: 3-12             [-1, 512, 71, 71]         3,542,016\n",
            "├─Down: 1-5                              [-1, 512, 35, 35]         --\n",
            "|    └─Sequential: 2-5                   [-1, 512, 35, 35]         --\n",
            "|    |    └─MaxPool2d: 3-13              [-1, 512, 35, 35]         --\n",
            "|    |    └─DoubleConv: 3-14             [-1, 512, 35, 35]         4,721,664\n",
            "├─Up: 1-6                                [-1, 256, 71, 71]         --\n",
            "|    └─Upsample: 2-6                     [-1, 512, 70, 70]         --\n",
            "|    └─DoubleConv: 2-7                   [-1, 256, 71, 71]         --\n",
            "|    |    └─Sequential: 3-15             [-1, 256, 71, 71]         5,900,544\n",
            "├─Up: 1-7                                [-1, 128, 143, 143]       --\n",
            "|    └─Upsample: 2-8                     [-1, 256, 142, 142]       --\n",
            "|    └─DoubleConv: 2-9                   [-1, 128, 143, 143]       --\n",
            "|    |    └─Sequential: 3-16             [-1, 128, 143, 143]       1,475,712\n",
            "├─Up: 1-8                                [-1, 64, 286, 286]        --\n",
            "|    └─Upsample: 2-10                    [-1, 128, 286, 286]       --\n",
            "|    └─DoubleConv: 2-11                  [-1, 64, 286, 286]        --\n",
            "|    |    └─Sequential: 3-17             [-1, 64, 286, 286]        369,216\n",
            "├─Up: 1-9                                [-1, 64, 572, 572]        --\n",
            "|    └─Upsample: 2-12                    [-1, 64, 572, 572]        --\n",
            "|    └─DoubleConv: 2-13                  [-1, 64, 572, 572]        --\n",
            "|    |    └─Sequential: 3-18             [-1, 64, 572, 572]        110,976\n",
            "├─OutConv: 1-10                          [-1, 1, 572, 572]         --\n",
            "|    └─Conv2d: 2-14                      [-1, 1, 572, 572]         65\n",
            "==========================================================================================\n",
            "Total params: 17,267,393\n",
            "Trainable params: 17,267,393\n",
            "Non-trainable params: 0\n",
            "Total mult-adds (G): 138.93\n",
            "==========================================================================================\n",
            "Input size (MB): 3.74\n",
            "Forward/backward pass size (MB): 1699.09\n",
            "Params size (MB): 65.87\n",
            "Estimated Total Size (MB): 1768.70\n",
            "==========================================================================================\n"
          ]
        },
        {
          "data": {
            "text/plain": [
              "==========================================================================================\n",
              "Layer (type:depth-idx)                   Output Shape              Param #\n",
              "==========================================================================================\n",
              "├─DoubleConv: 1-1                        [-1, 64, 572, 572]        --\n",
              "|    └─Sequential: 2-1                   [-1, 64, 572, 572]        --\n",
              "|    |    └─Conv2d: 3-1                  [-1, 64, 572, 572]        1,792\n",
              "|    |    └─BatchNorm2d: 3-2             [-1, 64, 572, 572]        128\n",
              "|    |    └─GELU: 3-3                    [-1, 64, 572, 572]        --\n",
              "|    |    └─Conv2d: 3-4                  [-1, 64, 572, 572]        36,928\n",
              "|    |    └─BatchNorm2d: 3-5             [-1, 64, 572, 572]        128\n",
              "|    |    └─GELU: 3-6                    [-1, 64, 572, 572]        --\n",
              "├─Down: 1-2                              [-1, 128, 286, 286]       --\n",
              "|    └─Sequential: 2-2                   [-1, 128, 286, 286]       --\n",
              "|    |    └─MaxPool2d: 3-7               [-1, 64, 286, 286]        --\n",
              "|    |    └─DoubleConv: 3-8              [-1, 128, 286, 286]       221,952\n",
              "├─Down: 1-3                              [-1, 256, 143, 143]       --\n",
              "|    └─Sequential: 2-3                   [-1, 256, 143, 143]       --\n",
              "|    |    └─MaxPool2d: 3-9               [-1, 128, 143, 143]       --\n",
              "|    |    └─DoubleConv: 3-10             [-1, 256, 143, 143]       886,272\n",
              "├─Down: 1-4                              [-1, 512, 71, 71]         --\n",
              "|    └─Sequential: 2-4                   [-1, 512, 71, 71]         --\n",
              "|    |    └─MaxPool2d: 3-11              [-1, 256, 71, 71]         --\n",
              "|    |    └─DoubleConv: 3-12             [-1, 512, 71, 71]         3,542,016\n",
              "├─Down: 1-5                              [-1, 512, 35, 35]         --\n",
              "|    └─Sequential: 2-5                   [-1, 512, 35, 35]         --\n",
              "|    |    └─MaxPool2d: 3-13              [-1, 512, 35, 35]         --\n",
              "|    |    └─DoubleConv: 3-14             [-1, 512, 35, 35]         4,721,664\n",
              "├─Up: 1-6                                [-1, 256, 71, 71]         --\n",
              "|    └─Upsample: 2-6                     [-1, 512, 70, 70]         --\n",
              "|    └─DoubleConv: 2-7                   [-1, 256, 71, 71]         --\n",
              "|    |    └─Sequential: 3-15             [-1, 256, 71, 71]         5,900,544\n",
              "├─Up: 1-7                                [-1, 128, 143, 143]       --\n",
              "|    └─Upsample: 2-8                     [-1, 256, 142, 142]       --\n",
              "|    └─DoubleConv: 2-9                   [-1, 128, 143, 143]       --\n",
              "|    |    └─Sequential: 3-16             [-1, 128, 143, 143]       1,475,712\n",
              "├─Up: 1-8                                [-1, 64, 286, 286]        --\n",
              "|    └─Upsample: 2-10                    [-1, 128, 286, 286]       --\n",
              "|    └─DoubleConv: 2-11                  [-1, 64, 286, 286]        --\n",
              "|    |    └─Sequential: 3-17             [-1, 64, 286, 286]        369,216\n",
              "├─Up: 1-9                                [-1, 64, 572, 572]        --\n",
              "|    └─Upsample: 2-12                    [-1, 64, 572, 572]        --\n",
              "|    └─DoubleConv: 2-13                  [-1, 64, 572, 572]        --\n",
              "|    |    └─Sequential: 3-18             [-1, 64, 572, 572]        110,976\n",
              "├─OutConv: 1-10                          [-1, 1, 572, 572]         --\n",
              "|    └─Conv2d: 2-14                      [-1, 1, 572, 572]         65\n",
              "==========================================================================================\n",
              "Total params: 17,267,393\n",
              "Trainable params: 17,267,393\n",
              "Non-trainable params: 0\n",
              "Total mult-adds (G): 138.93\n",
              "==========================================================================================\n",
              "Input size (MB): 3.74\n",
              "Forward/backward pass size (MB): 1699.09\n",
              "Params size (MB): 65.87\n",
              "Estimated Total Size (MB): 1768.70\n",
              "=========================================================================================="
            ]
          },
          "execution_count": 19,
          "metadata": {},
          "output_type": "execute_result"
        }
      ],
      "source": [
        "model = Unet(n_channels=3, n_classes=1).to(DEVICE)\n",
        "from torchsummary import summary\n",
        "summary(model, input_data=(3, 572, 572), device=DEVICE)"
      ]
    },
    {
      "cell_type": "code",
      "execution_count": null,
      "metadata": {
        "id": "4MbUAaJ8aHJZ"
      },
      "outputs": [],
      "source": [
        "optimizer = optim.AdamW(model.parameters(),lr=LEARNING_RATE)\n",
        "criterion = nn.BCEWithLogitsLoss()\n",
        "\n",
        "scheduler1 = optim.lr_scheduler.ExponentialLR(optimizer, gamma=0.9)\n",
        "scheduler2 = optim.lr_scheduler.MultiStepLR(optimizer, milestones=[4,8], gamma=0.1)\n",
        "\n",
        "train_loss_his = []\n",
        "valid_loss_his = []\n",
        "best_valid_loss = float('inf')"
      ]
    },
    {
      "cell_type": "code",
      "execution_count": 21,
      "metadata": {
        "colab": {
          "base_uri": "https://localhost:8080/",
          "height": 1000
        },
        "id": "E2CZDMvnpOck",
        "outputId": "ebed8b8a-bf7b-4a91-aad3-fc1f988e044c"
      },
      "outputs": [
        {
          "name": "stdout",
          "output_type": "stream",
          "text": [
            "Epoch 1 of 10\n",
            "\n",
            "TRAINING MODE ---------------------\n"
          ]
        },
        {
          "name": "stderr",
          "output_type": "stream",
          "text": [
            "100%|██████████| 1145/1145 [12:05<00:00,  1.58it/s]"
          ]
        },
        {
          "name": "stdout",
          "output_type": "stream",
          "text": [
            "\n",
            "VALIDATION MODE --------------------\n"
          ]
        },
        {
          "name": "stderr",
          "output_type": "stream",
          "text": [
            "\n",
            "100%|██████████| 127/127 [00:22<00:00,  5.68it/s]\n"
          ]
        },
        {
          "name": "stdout",
          "output_type": "stream",
          "text": [
            "\n",
            "Train loss: 0.1119\n",
            "Valid loss: 0.0373\n",
            "\n",
            "Save checkpoint ...\n",
            "\n",
            "Epoch 2 of 10\n",
            "\n",
            "TRAINING MODE ---------------------\n"
          ]
        },
        {
          "name": "stderr",
          "output_type": "stream",
          "text": [
            "100%|██████████| 1145/1145 [12:05<00:00,  1.58it/s]"
          ]
        },
        {
          "name": "stdout",
          "output_type": "stream",
          "text": [
            "\n",
            "VALIDATION MODE --------------------\n"
          ]
        },
        {
          "name": "stderr",
          "output_type": "stream",
          "text": [
            "\n",
            "100%|██████████| 127/127 [00:22<00:00,  5.69it/s]\n"
          ]
        },
        {
          "name": "stdout",
          "output_type": "stream",
          "text": [
            "\n",
            "Train loss: 0.0302\n",
            "Valid loss: 0.0175\n",
            "\n",
            "Save checkpoint ...\n",
            "\n",
            "Epoch 3 of 10\n",
            "\n",
            "TRAINING MODE ---------------------\n"
          ]
        },
        {
          "name": "stderr",
          "output_type": "stream",
          "text": [
            "100%|██████████| 1145/1145 [12:04<00:00,  1.58it/s]"
          ]
        },
        {
          "name": "stdout",
          "output_type": "stream",
          "text": [
            "\n",
            "VALIDATION MODE --------------------\n"
          ]
        },
        {
          "name": "stderr",
          "output_type": "stream",
          "text": [
            "\n",
            "100%|██████████| 127/127 [00:22<00:00,  5.68it/s]\n"
          ]
        },
        {
          "name": "stdout",
          "output_type": "stream",
          "text": [
            "\n",
            "Train loss: 0.0174\n",
            "Valid loss: 0.0125\n",
            "\n",
            "Save checkpoint ...\n",
            "\n",
            "Epoch 4 of 10\n",
            "\n",
            "TRAINING MODE ---------------------\n"
          ]
        },
        {
          "name": "stderr",
          "output_type": "stream",
          "text": [
            "100%|██████████| 1145/1145 [12:04<00:00,  1.58it/s]"
          ]
        },
        {
          "name": "stdout",
          "output_type": "stream",
          "text": [
            "\n",
            "VALIDATION MODE --------------------\n"
          ]
        },
        {
          "name": "stderr",
          "output_type": "stream",
          "text": [
            "\n",
            "100%|██████████| 127/127 [00:22<00:00,  5.67it/s]\n"
          ]
        },
        {
          "name": "stdout",
          "output_type": "stream",
          "text": [
            "\n",
            "Train loss: 0.0119\n",
            "Valid loss: 0.0085\n",
            "\n",
            "Save checkpoint ...\n",
            "\n",
            "Epoch 5 of 10\n",
            "\n",
            "TRAINING MODE ---------------------\n"
          ]
        },
        {
          "name": "stderr",
          "output_type": "stream",
          "text": [
            "100%|██████████| 1145/1145 [12:04<00:00,  1.58it/s]"
          ]
        },
        {
          "name": "stdout",
          "output_type": "stream",
          "text": [
            "\n",
            "VALIDATION MODE --------------------\n"
          ]
        },
        {
          "name": "stderr",
          "output_type": "stream",
          "text": [
            "\n",
            "100%|██████████| 127/127 [00:22<00:00,  5.67it/s]\n"
          ]
        },
        {
          "name": "stdout",
          "output_type": "stream",
          "text": [
            "\n",
            "Train loss: 0.0090\n",
            "Valid loss: 0.0078\n",
            "\n",
            "Save checkpoint ...\n",
            "\n",
            "Epoch 6 of 10\n",
            "\n",
            "TRAINING MODE ---------------------\n"
          ]
        },
        {
          "name": "stderr",
          "output_type": "stream",
          "text": [
            "100%|██████████| 1145/1145 [12:04<00:00,  1.58it/s]"
          ]
        },
        {
          "name": "stdout",
          "output_type": "stream",
          "text": [
            "\n",
            "VALIDATION MODE --------------------\n"
          ]
        },
        {
          "name": "stderr",
          "output_type": "stream",
          "text": [
            "\n",
            "100%|██████████| 127/127 [00:22<00:00,  5.67it/s]\n"
          ]
        },
        {
          "name": "stdout",
          "output_type": "stream",
          "text": [
            "\n",
            "Train loss: 0.0086\n",
            "Valid loss: 0.0077\n",
            "\n",
            "Save checkpoint ...\n",
            "\n",
            "Epoch 7 of 10\n",
            "\n",
            "TRAINING MODE ---------------------\n"
          ]
        },
        {
          "name": "stderr",
          "output_type": "stream",
          "text": [
            "100%|██████████| 1145/1145 [12:04<00:00,  1.58it/s]"
          ]
        },
        {
          "name": "stdout",
          "output_type": "stream",
          "text": [
            "\n",
            "VALIDATION MODE --------------------\n"
          ]
        },
        {
          "name": "stderr",
          "output_type": "stream",
          "text": [
            "\n",
            "100%|██████████| 127/127 [00:22<00:00,  5.69it/s]\n"
          ]
        },
        {
          "name": "stdout",
          "output_type": "stream",
          "text": [
            "\n",
            "Train loss: 0.0083\n",
            "Valid loss: 0.0074\n",
            "\n",
            "Save checkpoint ...\n",
            "\n",
            "Epoch 8 of 10\n",
            "\n",
            "TRAINING MODE ---------------------\n"
          ]
        },
        {
          "name": "stderr",
          "output_type": "stream",
          "text": [
            "100%|██████████| 1145/1145 [12:04<00:00,  1.58it/s]"
          ]
        },
        {
          "name": "stdout",
          "output_type": "stream",
          "text": [
            "\n",
            "VALIDATION MODE --------------------\n"
          ]
        },
        {
          "name": "stderr",
          "output_type": "stream",
          "text": [
            "\n",
            "100%|██████████| 127/127 [00:22<00:00,  5.69it/s]\n"
          ]
        },
        {
          "name": "stdout",
          "output_type": "stream",
          "text": [
            "\n",
            "Train loss: 0.0080\n",
            "Valid loss: 0.0069\n",
            "\n",
            "Save checkpoint ...\n",
            "\n",
            "Epoch 9 of 10\n",
            "\n",
            "TRAINING MODE ---------------------\n"
          ]
        },
        {
          "name": "stderr",
          "output_type": "stream",
          "text": [
            "100%|██████████| 1145/1145 [12:03<00:00,  1.58it/s]"
          ]
        },
        {
          "name": "stdout",
          "output_type": "stream",
          "text": [
            "\n",
            "VALIDATION MODE --------------------\n"
          ]
        },
        {
          "name": "stderr",
          "output_type": "stream",
          "text": [
            "\n",
            "100%|██████████| 127/127 [00:22<00:00,  5.67it/s]"
          ]
        },
        {
          "name": "stdout",
          "output_type": "stream",
          "text": [
            "\n",
            "Train loss: 0.0077\n",
            "Valid loss: 0.0069\n",
            "\n",
            "Epoch 10 of 10\n",
            "\n",
            "TRAINING MODE ---------------------\n"
          ]
        },
        {
          "name": "stderr",
          "output_type": "stream",
          "text": [
            "\n",
            "100%|██████████| 1145/1145 [12:03<00:00,  1.58it/s]"
          ]
        },
        {
          "name": "stdout",
          "output_type": "stream",
          "text": [
            "\n",
            "VALIDATION MODE --------------------\n"
          ]
        },
        {
          "name": "stderr",
          "output_type": "stream",
          "text": [
            "\n",
            "100%|██████████| 127/127 [00:22<00:00,  5.68it/s]\n"
          ]
        },
        {
          "name": "stdout",
          "output_type": "stream",
          "text": [
            "\n",
            "Train loss: 0.0076\n",
            "Valid loss: 0.0070\n",
            "\n"
          ]
        },
        {
          "data": {
            "image/png": "[encoded data removed]",
            "text/plain": [
              "<Figure size 720x504 with 1 Axes>"
            ]
          },
          "metadata": {
            "needs_background": "light"
          },
          "output_type": "display_data"
        },
        {
          "name": "stdout",
          "output_type": "stream",
          "text": [
            "\n",
            "---------DONE TRAINING----------\n",
            "\n"
          ]
        }
      ],
      "source": [
        "for epoch in range(EPOCHS):\n",
        "    print(f'Epoch {epoch + 1} of {EPOCHS}')\n",
        "    train_loss = fit(model, train_loader, train_data, optimizer, criterion, DEVICE)\n",
        "    valid_loss = validation(model, valid_loader, valid_data, criterion, DEVICE)\n",
        "    train_loss_his.append(train_loss)\n",
        "    valid_loss_his.append(valid_loss)\n",
        "\n",
        "    print(f\"\\nTrain loss: {train_loss:.4f}\")\n",
        "    print(f\"Valid loss: {valid_loss:.4f}\\n\")\n",
        "    \n",
        "    if valid_loss < best_valid_loss:\n",
        "        best_valid_loss = valid_loss\n",
        "        checkpoint = {\n",
        "            'epoch': EPOCHS,\n",
        "            'model_state_dict': model.state_dict(),\n",
        "            'optimizer_state_dict': optimizer.state_dict(),\n",
        "            'loss': criterion,\n",
        "            }\n",
        "        torch.save(checkpoint, \"./model.pth\")\n",
        "        print(\"Save checkpoint ...\\n\")\n",
        "\n",
        "    scheduler1.step()\n",
        "    scheduler2.step()\n",
        "\n",
        "# loss plot\n",
        "plt.figure(figsize=(10, 7))\n",
        "plt.plot(train_loss_his, color=\"orange\", label='train loss')\n",
        "plt.plot(valid_loss_his, color=\"red\", label='valid loss')\n",
        "plt.xlabel(\"Epochs\")\n",
        "plt.ylabel(\"Loss\")\n",
        "plt.legend()\n",
        "plt.show()\n",
        "\n",
        "print(\"\\n---------DONE TRAINING----------\\n\")"
      ]
    },
    {
      "cell_type": "markdown",
      "metadata": {
        "id": "U79kXA3H5hm4"
      },
      "source": [
        "# Inference"
      ]
    },
    {
      "cell_type": "code",
      "execution_count": 26,
      "metadata": {
        "colab": {
          "base_uri": "https://localhost:8080/",
          "height": 286
        },
        "id": "GHB16t9z2npS",
        "outputId": "fbec98e8-5ee1-48f1-c083-280fbc4b12e5"
      },
      "outputs": [
        {
          "name": "stdout",
          "output_type": "stream",
          "text": [
            "torch.Size([572, 572])\n"
          ]
        },
        {
          "data": {
            "image/png": "[encoded data removed]",
            "text/plain": [
              "<Figure size 432x288 with 1 Axes>"
            ]
          },
          "metadata": {
            "needs_background": "light"
          },
          "output_type": "display_data"
        }
      ],
      "source": [
        "data = valid_data.__getitem__(169)\n",
        "plt.imshow(data['mask'],cmap=\"gray\")\n",
        "print(valid_data.__getitem__(0)['mask'].shape)"
      ]
    },
    {
      "cell_type": "code",
      "execution_count": 27,
      "metadata": {
        "colab": {
          "base_uri": "https://localhost:8080/",
          "height": 321
        },
        "id": "gUVwdwr05pCB",
        "outputId": "01aca471-eb26-49b6-b9c0-b047322e32dd"
      },
      "outputs": [
        {
          "name": "stdout",
          "output_type": "stream",
          "text": [
            "torch.Size([3, 572, 572])\n",
            "tensor(1., device='cuda:0', grad_fn=<MaxBackward1>)\n",
            "torch.Size([572, 572])\n"
          ]
        },
        {
          "data": {
            "image/png": "[encoded data removed]",
            "text/plain": [
              "<Figure size 432x288 with 1 Axes>"
            ]
          },
          "metadata": {
            "needs_background": "light"
          },
          "output_type": "display_data"
        }
      ],
      "source": [
        "print(data['image'].shape)\n",
        "img = data['image'].unsqueeze(0).to(device=\"cuda\")\n",
        "# model = UNet()\n",
        "output = model(img)\n",
        "output = torch.squeeze(output)\n",
        "output[output>0.0] = 1.0\n",
        "output[output<=0.0]=0\n",
        "print(torch.max(output))\n",
        "print(output.shape)\n",
        "disp = output.detach().cpu()\n",
        "plt.imshow(disp,cmap=\"gray\")\n",
        "plt.show()"
      ]
    },
    {
      "cell_type": "code",
      "execution_count": null,
      "metadata": {
        "id": "uLzWpQL3EdeZ"
      },
      "outputs": [],
      "source": []
    }
  ],
  "metadata": {
    "accelerator": "GPU",
    "colab": {
      "machine_shape": "hm",
      "name": "Carvana competition U-net.ipynb",
      "provenance": []
    },
    "kernelspec": {
      "display_name": "Python 3",
      "name": "python3"
    },
    "language_info": {
      "name": "python"
    }
  },
  "nbformat": 4,
  "nbformat_minor": 0
}
