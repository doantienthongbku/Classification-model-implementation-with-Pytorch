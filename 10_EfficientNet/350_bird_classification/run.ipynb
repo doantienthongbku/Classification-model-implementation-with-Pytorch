{
 "cells": [
  {
   "cell_type": "code",
   "execution_count": 1,
   "metadata": {},
   "outputs": [],
   "source": [
    "import os\n",
    "import torch\n",
    "import torch.nn as nn\n",
    "import torch.optim as optim\n",
    "import matplotlib.pyplot as plt\n",
    "from torchsummary import summary\n",
    "import torchvision.models as models\n",
    "import numpy as np"
   ]
  },
  {
   "cell_type": "code",
   "execution_count": 3,
   "metadata": {},
   "outputs": [],
   "source": [
    "model = models.mobilenet_v3_large(pretrained=True)"
   ]
  },
  {
   "cell_type": "code",
   "execution_count": 5,
   "metadata": {},
   "outputs": [
    {
     "name": "stdout",
     "output_type": "stream",
     "text": [
      "===============================================================================================\n",
      "Layer (type:depth-idx)                        Output Shape              Param #\n",
      "===============================================================================================\n",
      "├─Sequential: 1-1                             [-1, 1280, 7, 7]          --\n",
      "|    └─ConvNormActivation: 2-1                [-1, 32, 112, 112]        --\n",
      "|    |    └─Conv2d: 3-1                       [-1, 32, 112, 112]        864\n",
      "|    |    └─BatchNorm2d: 3-2                  [-1, 32, 112, 112]        64\n",
      "|    |    └─SiLU: 3-3                         [-1, 32, 112, 112]        --\n",
      "|    └─Sequential: 2-2                        [-1, 16, 112, 112]        --\n",
      "|    |    └─MBConv: 3-4                       [-1, 16, 112, 112]        1,448\n",
      "|    └─Sequential: 2-3                        [-1, 24, 56, 56]          --\n",
      "|    |    └─MBConv: 3-5                       [-1, 24, 56, 56]          6,004\n",
      "|    |    └─MBConv: 3-6                       [-1, 24, 56, 56]          10,710\n",
      "|    └─Sequential: 2-4                        [-1, 40, 28, 28]          --\n",
      "|    |    └─MBConv: 3-7                       [-1, 40, 28, 28]          15,350\n",
      "|    |    └─MBConv: 3-8                       [-1, 40, 28, 28]          31,290\n",
      "|    └─Sequential: 2-5                        [-1, 80, 14, 14]          --\n",
      "|    |    └─MBConv: 3-9                       [-1, 80, 14, 14]          37,130\n",
      "|    |    └─MBConv: 3-10                      [-1, 80, 14, 14]          102,900\n",
      "|    |    └─MBConv: 3-11                      [-1, 80, 14, 14]          102,900\n",
      "|    └─Sequential: 2-6                        [-1, 112, 14, 14]         --\n",
      "|    |    └─MBConv: 3-12                      [-1, 112, 14, 14]         126,004\n",
      "|    |    └─MBConv: 3-13                      [-1, 112, 14, 14]         208,572\n",
      "|    |    └─MBConv: 3-14                      [-1, 112, 14, 14]         208,572\n",
      "|    └─Sequential: 2-7                        [-1, 192, 7, 7]           --\n",
      "|    |    └─MBConv: 3-15                      [-1, 192, 7, 7]           262,492\n",
      "|    |    └─MBConv: 3-16                      [-1, 192, 7, 7]           587,952\n",
      "|    |    └─MBConv: 3-17                      [-1, 192, 7, 7]           587,952\n",
      "|    |    └─MBConv: 3-18                      [-1, 192, 7, 7]           587,952\n",
      "|    └─Sequential: 2-8                        [-1, 320, 7, 7]           --\n",
      "|    |    └─MBConv: 3-19                      [-1, 320, 7, 7]           717,232\n",
      "|    └─ConvNormActivation: 2-9                [-1, 1280, 7, 7]          --\n",
      "|    |    └─Conv2d: 3-20                      [-1, 1280, 7, 7]          409,600\n",
      "|    |    └─BatchNorm2d: 3-21                 [-1, 1280, 7, 7]          2,560\n",
      "|    |    └─SiLU: 3-22                        [-1, 1280, 7, 7]          --\n",
      "├─AdaptiveAvgPool2d: 1-2                      [-1, 1280, 1, 1]          --\n",
      "├─Sequential: 1-3                             [-1, 1000]                --\n",
      "|    └─Dropout: 2-10                          [-1, 1280]                --\n",
      "|    └─Linear: 2-11                           [-1, 1000]                1,281,000\n",
      "===============================================================================================\n",
      "Total params: 5,288,548\n",
      "Trainable params: 5,288,548\n",
      "Non-trainable params: 0\n",
      "Total mult-adds (M): 48.55\n",
      "===============================================================================================\n",
      "Input size (MB): 0.57\n",
      "Forward/backward pass size (MB): 7.09\n",
      "Params size (MB): 20.17\n",
      "Estimated Total Size (MB): 27.84\n",
      "===============================================================================================\n"
     ]
    },
    {
     "data": {
      "text/plain": [
       "===============================================================================================\n",
       "Layer (type:depth-idx)                        Output Shape              Param #\n",
       "===============================================================================================\n",
       "├─Sequential: 1-1                             [-1, 1280, 7, 7]          --\n",
       "|    └─ConvNormActivation: 2-1                [-1, 32, 112, 112]        --\n",
       "|    |    └─Conv2d: 3-1                       [-1, 32, 112, 112]        864\n",
       "|    |    └─BatchNorm2d: 3-2                  [-1, 32, 112, 112]        64\n",
       "|    |    └─SiLU: 3-3                         [-1, 32, 112, 112]        --\n",
       "|    └─Sequential: 2-2                        [-1, 16, 112, 112]        --\n",
       "|    |    └─MBConv: 3-4                       [-1, 16, 112, 112]        1,448\n",
       "|    └─Sequential: 2-3                        [-1, 24, 56, 56]          --\n",
       "|    |    └─MBConv: 3-5                       [-1, 24, 56, 56]          6,004\n",
       "|    |    └─MBConv: 3-6                       [-1, 24, 56, 56]          10,710\n",
       "|    └─Sequential: 2-4                        [-1, 40, 28, 28]          --\n",
       "|    |    └─MBConv: 3-7                       [-1, 40, 28, 28]          15,350\n",
       "|    |    └─MBConv: 3-8                       [-1, 40, 28, 28]          31,290\n",
       "|    └─Sequential: 2-5                        [-1, 80, 14, 14]          --\n",
       "|    |    └─MBConv: 3-9                       [-1, 80, 14, 14]          37,130\n",
       "|    |    └─MBConv: 3-10                      [-1, 80, 14, 14]          102,900\n",
       "|    |    └─MBConv: 3-11                      [-1, 80, 14, 14]          102,900\n",
       "|    └─Sequential: 2-6                        [-1, 112, 14, 14]         --\n",
       "|    |    └─MBConv: 3-12                      [-1, 112, 14, 14]         126,004\n",
       "|    |    └─MBConv: 3-13                      [-1, 112, 14, 14]         208,572\n",
       "|    |    └─MBConv: 3-14                      [-1, 112, 14, 14]         208,572\n",
       "|    └─Sequential: 2-7                        [-1, 192, 7, 7]           --\n",
       "|    |    └─MBConv: 3-15                      [-1, 192, 7, 7]           262,492\n",
       "|    |    └─MBConv: 3-16                      [-1, 192, 7, 7]           587,952\n",
       "|    |    └─MBConv: 3-17                      [-1, 192, 7, 7]           587,952\n",
       "|    |    └─MBConv: 3-18                      [-1, 192, 7, 7]           587,952\n",
       "|    └─Sequential: 2-8                        [-1, 320, 7, 7]           --\n",
       "|    |    └─MBConv: 3-19                      [-1, 320, 7, 7]           717,232\n",
       "|    └─ConvNormActivation: 2-9                [-1, 1280, 7, 7]          --\n",
       "|    |    └─Conv2d: 3-20                      [-1, 1280, 7, 7]          409,600\n",
       "|    |    └─BatchNorm2d: 3-21                 [-1, 1280, 7, 7]          2,560\n",
       "|    |    └─SiLU: 3-22                        [-1, 1280, 7, 7]          --\n",
       "├─AdaptiveAvgPool2d: 1-2                      [-1, 1280, 1, 1]          --\n",
       "├─Sequential: 1-3                             [-1, 1000]                --\n",
       "|    └─Dropout: 2-10                          [-1, 1280]                --\n",
       "|    └─Linear: 2-11                           [-1, 1000]                1,281,000\n",
       "===============================================================================================\n",
       "Total params: 5,288,548\n",
       "Trainable params: 5,288,548\n",
       "Non-trainable params: 0\n",
       "Total mult-adds (M): 48.55\n",
       "===============================================================================================\n",
       "Input size (MB): 0.57\n",
       "Forward/backward pass size (MB): 7.09\n",
       "Params size (MB): 20.17\n",
       "Estimated Total Size (MB): 27.84\n",
       "==============================================================================================="
      ]
     },
     "execution_count": 5,
     "metadata": {},
     "output_type": "execute_result"
    }
   ],
   "source": [
    "summary(model, input_data=(3, 224, 224), device='cpu')"
   ]
  },
  {
   "cell_type": "code",
   "execution_count": null,
   "metadata": {},
   "outputs": [],
   "source": []
  }
 ],
 "metadata": {
  "interpreter": {
   "hash": "56a35c5b2fc2cc5650580a2e5a1f081d089f5c6c0b24e8298e3bbf81cdbf7676"
  },
  "kernelspec": {
   "display_name": "Python 3.7.11 64-bit ('base': conda)",
   "language": "python",
   "name": "python3"
  },
  "language_info": {
   "codemirror_mode": {
    "name": "ipython",
    "version": 3
   },
   "file_extension": ".py",
   "mimetype": "text/x-python",
   "name": "python",
   "nbconvert_exporter": "python",
   "pygments_lexer": "ipython3",
   "version": "3.7.11"
  },
  "orig_nbformat": 4
 },
 "nbformat": 4,
 "nbformat_minor": 2
}
