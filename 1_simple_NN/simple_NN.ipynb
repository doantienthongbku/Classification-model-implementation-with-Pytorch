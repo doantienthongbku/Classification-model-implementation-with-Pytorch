{
  "cells": [
    {
      "cell_type": "markdown",
      "metadata": {
        "id": "Pi5oFpg0cuz5"
      },
      "source": [
        "# Import Library"
      ]
    },
    {
      "cell_type": "code",
      "execution_count": 1,
      "metadata": {
        "id": "6Csiv-DVci-0"
      },
      "outputs": [],
      "source": [
        "from math import floor\n",
        "import torch\n",
        "import torch.nn as nn\n",
        "import torch.optim as optim\n",
        "import torch.nn.functional as F\n",
        "from torch.utils.data import DataLoader\n",
        "import torchvision.datasets as datasets\n",
        "import torchvision.transforms as transforms\n",
        "import matplotlib.pyplot as plt\n",
        "%matplotlib inline"
      ]
    },
    {
      "cell_type": "markdown",
      "metadata": {
        "id": "lHs4wbglc3eS"
      },
      "source": [
        "# Create Simple fully connected network"
      ]
    },
    {
      "cell_type": "code",
      "execution_count": 2,
      "metadata": {
        "id": "66AAFdsIcxUl"
      },
      "outputs": [],
      "source": [
        "class NN(nn.Module):\n",
        "    def __init__(self, input_size, num_classes):\n",
        "        super(NN, self).__init__()\n",
        "        \n",
        "        self.fc1 = nn.Linear(input_size, 100)\n",
        "        self.fc2 = nn.Linear(100, 100)\n",
        "        self.fc3 = nn.Linear(100, num_classes)\n",
        "        \n",
        "    def forward(self, x):\n",
        "        x = F.relu(self.fc1(x))\n",
        "        x = F.relu(self.fc2(x))\n",
        "        x = self.fc3(x)\n",
        "        return x"
      ]
    },
    {
      "cell_type": "markdown",
      "metadata": {
        "id": "leP3UnIodYEX"
      },
      "source": [
        "# Set device and hyperparameter"
      ]
    },
    {
      "cell_type": "code",
      "execution_count": 3,
      "metadata": {
        "colab": {
          "base_uri": "https://localhost:8080/"
        },
        "id": "W86-wExCdEPW",
        "outputId": "aa2e9a15-5e7d-4f8e-a771-ea3a4045f303"
      },
      "outputs": [
        {
          "name": "stdout",
          "output_type": "stream",
          "text": [
            "Using device = cuda\n"
          ]
        }
      ],
      "source": [
        "# Set device\n",
        "device = torch.device('cuda' if torch.cuda.is_available() else 'cpu')\n",
        "print(\"Using device = {}\".format(device))"
      ]
    },
    {
      "cell_type": "code",
      "execution_count": 4,
      "metadata": {
        "id": "N8ZX1ZMydHL_"
      },
      "outputs": [],
      "source": [
        "# Hyperparameters\n",
        "input_size = 784\n",
        "num_classes = 10\n",
        "learning_rate = 0.001\n",
        "batch_size = 256\n",
        "num_epochs = 10"
      ]
    },
    {
      "cell_type": "markdown",
      "metadata": {
        "id": "4cLqX_BtddQZ"
      },
      "source": [
        "# Load data and model"
      ]
    },
    {
      "cell_type": "code",
      "execution_count": 5,
      "metadata": {
        "id": "Qn1vqUEMdKX2"
      },
      "outputs": [],
      "source": [
        "# Load data\n",
        "train_dataset = datasets.MNIST(root='dataset/', train=True, transform=transforms.ToTensor(), download=True)\n",
        "train_loader = DataLoader(train_dataset, batch_size=batch_size, shuffle=True)\n",
        "\n",
        "valid_dataset = datasets.MNIST(root='dataset/', train=False, transform=transforms.ToTensor(), download=True)\n",
        "valid_loader = DataLoader(valid_dataset, batch_size=batch_size, shuffle=False)\n",
        "\n",
        "# Initialize network\n",
        "model = NN(input_size=input_size, num_classes=num_classes).to(device=device)\n",
        "\n",
        "# Loss ans optimizer\n",
        "criterion = nn.CrossEntropyLoss()\n",
        "optimizer = optim.Adam(params=model.parameters(), lr=learning_rate)"
      ]
    },
    {
      "cell_type": "code",
      "execution_count": 6,
      "metadata": {
        "colab": {
          "base_uri": "https://localhost:8080/"
        },
        "id": "ZKnBCdb1eBF4",
        "outputId": "ba54a8ef-cf61-460e-dc19-3a1eaea5a34a"
      },
      "outputs": [
        {
          "name": "stdout",
          "output_type": "stream",
          "text": [
            "=================================================================\n",
            "Layer (type:depth-idx)                   Param #\n",
            "=================================================================\n",
            "├─Linear: 1-1                            78,500\n",
            "├─Linear: 1-2                            10,100\n",
            "├─Linear: 1-3                            1,010\n",
            "=================================================================\n",
            "Total params: 89,610\n",
            "Trainable params: 89,610\n",
            "Non-trainable params: 0\n",
            "=================================================================\n"
          ]
        },
        {
          "data": {
            "text/plain": [
              "=================================================================\n",
              "Layer (type:depth-idx)                   Param #\n",
              "=================================================================\n",
              "├─Linear: 1-1                            78,500\n",
              "├─Linear: 1-2                            10,100\n",
              "├─Linear: 1-3                            1,010\n",
              "=================================================================\n",
              "Total params: 89,610\n",
              "Trainable params: 89,610\n",
              "Non-trainable params: 0\n",
              "================================================================="
            ]
          },
          "execution_count": 6,
          "metadata": {},
          "output_type": "execute_result"
        }
      ],
      "source": [
        "from torchsummary import summary\n",
        "summary(model, input_size=(1, 28, 28), device=device)"
      ]
    },
    {
      "cell_type": "markdown",
      "metadata": {
        "id": "87C4HutBdgxo"
      },
      "source": [
        "# Training"
      ]
    },
    {
      "cell_type": "code",
      "execution_count": 7,
      "metadata": {
        "id": "Ie-ntbhVfvhV"
      },
      "outputs": [],
      "source": [
        "train_acc_his = []\n",
        "valid_acc_his = []"
      ]
    },
    {
      "cell_type": "code",
      "execution_count": 8,
      "metadata": {
        "id": "9h-fBlcJdMnG"
      },
      "outputs": [],
      "source": [
        "# Check accuracy on training & test to see how good our model\n",
        "def check_accuracy(loader, model):\n",
        "    if loader.dataset.train:\n",
        "        print(\"Train data: \", end=\"\")\n",
        "    else:\n",
        "        print(\"Valid data: \", end=\"\")\n",
        "    \n",
        "    num_correct = 0\n",
        "    num_sample = 0\n",
        "    model.eval()\n",
        "    \n",
        "    with torch.no_grad():\n",
        "        for x, y in loader:\n",
        "            x = x.to(device)\n",
        "            y = y.to(device)\n",
        "            x = x.reshape(x.shape[0], -1)\n",
        "            \n",
        "            scores = model(x)\n",
        "            _, prediction = scores.max(1)\n",
        "            num_correct += (prediction == y).sum()\n",
        "            num_sample += prediction.size(0)\n",
        "            \n",
        "        print(f\"Got {num_correct} / {num_sample} with accuracy {float(num_correct)/float(num_sample) * 100:.2f} %\")\n",
        "\n",
        "    model.train()\n",
        "\n",
        "    return float(num_correct) / float(num_sample)"
      ]
    },
    {
      "cell_type": "code",
      "execution_count": 9,
      "metadata": {
        "colab": {
          "base_uri": "https://localhost:8080/"
        },
        "id": "WJTmJEPCdS5t",
        "outputId": "9528831a-feea-4bf3-9f92-bbc1ad7c013d"
      },
      "outputs": [
        {
          "name": "stdout",
          "output_type": "stream",
          "text": [
            "\n",
            "Epoch 1:\n",
            "Train data: Got 55865 / 60000 with accuracy 93.11 %\n",
            "Valid data: Got 9304 / 10000 with accuracy 93.04 %\n",
            "\n",
            "Epoch 2:\n",
            "Train data: Got 57138 / 60000 with accuracy 95.23 %\n",
            "Valid data: Got 9500 / 10000 with accuracy 95.00 %\n",
            "\n",
            "Epoch 3:\n",
            "Train data: Got 57919 / 60000 with accuracy 96.53 %\n",
            "Valid data: Got 9593 / 10000 with accuracy 95.93 %\n",
            "\n",
            "Epoch 4:\n",
            "Train data: Got 58264 / 60000 with accuracy 97.11 %\n",
            "Valid data: Got 9645 / 10000 with accuracy 96.45 %\n",
            "\n",
            "Epoch 5:\n",
            "Train data: Got 58610 / 60000 with accuracy 97.68 %\n",
            "Valid data: Got 9684 / 10000 with accuracy 96.84 %\n",
            "\n",
            "Epoch 6:\n",
            "Train data: Got 58866 / 60000 with accuracy 98.11 %\n",
            "Valid data: Got 9708 / 10000 with accuracy 97.08 %\n",
            "\n",
            "Epoch 7:\n",
            "Train data: Got 58975 / 60000 with accuracy 98.29 %\n",
            "Valid data: Got 9736 / 10000 with accuracy 97.36 %\n",
            "\n",
            "Epoch 8:\n",
            "Train data: Got 59144 / 60000 with accuracy 98.57 %\n",
            "Valid data: Got 9737 / 10000 with accuracy 97.37 %\n",
            "\n",
            "Epoch 9:\n",
            "Train data: Got 59117 / 60000 with accuracy 98.53 %\n",
            "Valid data: Got 9742 / 10000 with accuracy 97.42 %\n",
            "\n",
            "Epoch 10:\n",
            "Train data: Got 59318 / 60000 with accuracy 98.86 %\n",
            "Valid data: Got 9761 / 10000 with accuracy 97.61 %\n"
          ]
        }
      ],
      "source": [
        "# Train network\n",
        "for epoch in range(num_epochs):\n",
        "    for batch_idx, (data, target) in enumerate(train_loader):\n",
        "        data = data.to(device)\n",
        "        target = target.to(device)\n",
        "        \n",
        "        # Get to correct shape\n",
        "        data = data.reshape(data.shape[0], -1)\n",
        "        \n",
        "        # forward\n",
        "        scores = model(data)\n",
        "        loss = criterion(scores, target)\n",
        "        \n",
        "        # backward\n",
        "        optimizer.zero_grad()\n",
        "        loss.backward()\n",
        "        \n",
        "        # Gradient descent or Adam step\n",
        "        optimizer.step()\n",
        "        \n",
        "    print(f\"\\nEpoch {epoch + 1}:\")\n",
        "    train_acc_his.append(check_accuracy(train_loader, model))\n",
        "    valid_acc_his.append(check_accuracy(valid_loader, model))"
      ]
    },
    {
      "cell_type": "markdown",
      "metadata": {
        "id": "-gXmBxn8hAga"
      },
      "source": [
        "# Visualize result"
      ]
    },
    {
      "cell_type": "code",
      "execution_count": 10,
      "metadata": {
        "colab": {
          "base_uri": "https://localhost:8080/",
          "height": 279
        },
        "id": "t6SOAAZqdUdF",
        "outputId": "33602b96-5c8c-47a4-fe34-3063605d4aff"
      },
      "outputs": [
        {
          "data": {
            "image/png": "[encoded data removed]",
            "text/plain": [
              "<Figure size 432x288 with 1 Axes>"
            ]
          },
          "metadata": {
            "needs_background": "light"
          },
          "output_type": "display_data"
        }
      ],
      "source": [
        "plt.plot(train_acc_his, label='train acc')\n",
        "plt.plot(valid_acc_his, label='valid acc')\n",
        "plt.grid('on')\n",
        "plt.xlabel('number of epochs')\n",
        "plt.ylabel('accuracy')\n",
        "plt.legend()\n",
        "plt.show()"
      ]
    },
    {
      "cell_type": "code",
      "execution_count": null,
      "metadata": {
        "id": "Uc1fpA4hhodp"
      },
      "outputs": [],
      "source": []
    }
  ],
  "metadata": {
    "accelerator": "GPU",
    "colab": {
      "machine_shape": "hm",
      "name": "simple_NN.ipynb",
      "provenance": []
    },
    "kernelspec": {
      "display_name": "Python 3",
      "name": "python3"
    },
    "language_info": {
      "codemirror_mode": {
        "name": "ipython",
        "version": 3
      },
      "file_extension": ".py",
      "mimetype": "text/x-python",
      "name": "python",
      "nbconvert_exporter": "python",
      "pygments_lexer": "ipython3",
      "version": "3.7.11"
    }
  },
  "nbformat": 4,
  "nbformat_minor": 0
}
